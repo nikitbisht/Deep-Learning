{
 "cells": [
  {
   "cell_type": "code",
   "execution_count": 1,
   "id": "998e3054-7c0a-4a71-a06e-6f7497784479",
   "metadata": {},
   "outputs": [],
   "source": [
    "import numpy as np\n",
    "import pandas as pd"
   ]
  },
  {
   "cell_type": "code",
   "execution_count": 2,
   "id": "3aa42e25-4ad7-472a-994a-eb92f455af4f",
   "metadata": {},
   "outputs": [],
   "source": [
    "df = pd.read_csv('diabetes.csv')"
   ]
  },
  {
   "cell_type": "code",
   "execution_count": 3,
   "id": "6b6c8ef4-6e89-4da5-a3ae-30daa323a7e0",
   "metadata": {},
   "outputs": [
    {
     "data": {
      "text/plain": [
       "(768, 9)"
      ]
     },
     "execution_count": 3,
     "metadata": {},
     "output_type": "execute_result"
    }
   ],
   "source": [
    "df.shape"
   ]
  },
  {
   "cell_type": "code",
   "execution_count": 4,
   "id": "00b0b09b-780f-4b86-9df3-71fd1062e457",
   "metadata": {},
   "outputs": [
    {
     "data": {
      "text/html": [
       "<div>\n",
       "<style scoped>\n",
       "    .dataframe tbody tr th:only-of-type {\n",
       "        vertical-align: middle;\n",
       "    }\n",
       "\n",
       "    .dataframe tbody tr th {\n",
       "        vertical-align: top;\n",
       "    }\n",
       "\n",
       "    .dataframe thead th {\n",
       "        text-align: right;\n",
       "    }\n",
       "</style>\n",
       "<table border=\"1\" class=\"dataframe\">\n",
       "  <thead>\n",
       "    <tr style=\"text-align: right;\">\n",
       "      <th></th>\n",
       "      <th>Pregnancies</th>\n",
       "      <th>Glucose</th>\n",
       "      <th>BloodPressure</th>\n",
       "      <th>SkinThickness</th>\n",
       "      <th>Insulin</th>\n",
       "      <th>BMI</th>\n",
       "      <th>DiabetesPedigreeFunction</th>\n",
       "      <th>Age</th>\n",
       "      <th>Outcome</th>\n",
       "    </tr>\n",
       "  </thead>\n",
       "  <tbody>\n",
       "    <tr>\n",
       "      <th>0</th>\n",
       "      <td>6</td>\n",
       "      <td>148</td>\n",
       "      <td>72</td>\n",
       "      <td>35</td>\n",
       "      <td>0</td>\n",
       "      <td>33.6</td>\n",
       "      <td>0.627</td>\n",
       "      <td>50</td>\n",
       "      <td>1</td>\n",
       "    </tr>\n",
       "    <tr>\n",
       "      <th>1</th>\n",
       "      <td>1</td>\n",
       "      <td>85</td>\n",
       "      <td>66</td>\n",
       "      <td>29</td>\n",
       "      <td>0</td>\n",
       "      <td>26.6</td>\n",
       "      <td>0.351</td>\n",
       "      <td>31</td>\n",
       "      <td>0</td>\n",
       "    </tr>\n",
       "    <tr>\n",
       "      <th>2</th>\n",
       "      <td>8</td>\n",
       "      <td>183</td>\n",
       "      <td>64</td>\n",
       "      <td>0</td>\n",
       "      <td>0</td>\n",
       "      <td>23.3</td>\n",
       "      <td>0.672</td>\n",
       "      <td>32</td>\n",
       "      <td>1</td>\n",
       "    </tr>\n",
       "    <tr>\n",
       "      <th>3</th>\n",
       "      <td>1</td>\n",
       "      <td>89</td>\n",
       "      <td>66</td>\n",
       "      <td>23</td>\n",
       "      <td>94</td>\n",
       "      <td>28.1</td>\n",
       "      <td>0.167</td>\n",
       "      <td>21</td>\n",
       "      <td>0</td>\n",
       "    </tr>\n",
       "    <tr>\n",
       "      <th>4</th>\n",
       "      <td>0</td>\n",
       "      <td>137</td>\n",
       "      <td>40</td>\n",
       "      <td>35</td>\n",
       "      <td>168</td>\n",
       "      <td>43.1</td>\n",
       "      <td>2.288</td>\n",
       "      <td>33</td>\n",
       "      <td>1</td>\n",
       "    </tr>\n",
       "  </tbody>\n",
       "</table>\n",
       "</div>"
      ],
      "text/plain": [
       "   Pregnancies  Glucose  BloodPressure  SkinThickness  Insulin   BMI  \\\n",
       "0            6      148             72             35        0  33.6   \n",
       "1            1       85             66             29        0  26.6   \n",
       "2            8      183             64              0        0  23.3   \n",
       "3            1       89             66             23       94  28.1   \n",
       "4            0      137             40             35      168  43.1   \n",
       "\n",
       "   DiabetesPedigreeFunction  Age  Outcome  \n",
       "0                     0.627   50        1  \n",
       "1                     0.351   31        0  \n",
       "2                     0.672   32        1  \n",
       "3                     0.167   21        0  \n",
       "4                     2.288   33        1  "
      ]
     },
     "execution_count": 4,
     "metadata": {},
     "output_type": "execute_result"
    }
   ],
   "source": [
    "df.head()"
   ]
  },
  {
   "cell_type": "code",
   "execution_count": 6,
   "id": "4fa75675-b77b-4180-9cca-e302aa336520",
   "metadata": {},
   "outputs": [
    {
     "name": "stdout",
     "output_type": "stream",
     "text": [
      "<class 'pandas.core.frame.DataFrame'>\n",
      "RangeIndex: 768 entries, 0 to 767\n",
      "Data columns (total 9 columns):\n",
      " #   Column                    Non-Null Count  Dtype  \n",
      "---  ------                    --------------  -----  \n",
      " 0   Pregnancies               768 non-null    int64  \n",
      " 1   Glucose                   768 non-null    int64  \n",
      " 2   BloodPressure             768 non-null    int64  \n",
      " 3   SkinThickness             768 non-null    int64  \n",
      " 4   Insulin                   768 non-null    int64  \n",
      " 5   BMI                       768 non-null    float64\n",
      " 6   DiabetesPedigreeFunction  768 non-null    float64\n",
      " 7   Age                       768 non-null    int64  \n",
      " 8   Outcome                   768 non-null    int64  \n",
      "dtypes: float64(2), int64(7)\n",
      "memory usage: 54.1 KB\n"
     ]
    }
   ],
   "source": [
    "df.info()"
   ]
  },
  {
   "cell_type": "code",
   "execution_count": 10,
   "id": "cc099ed3-145c-475a-b694-bac34d8a58d9",
   "metadata": {},
   "outputs": [
    {
     "data": {
      "text/plain": [
       "Pregnancies                 0.221898\n",
       "Glucose                     0.466581\n",
       "BloodPressure               0.065068\n",
       "SkinThickness               0.074752\n",
       "Insulin                     0.130548\n",
       "BMI                         0.292695\n",
       "DiabetesPedigreeFunction    0.173844\n",
       "Age                         0.238356\n",
       "Outcome                     1.000000\n",
       "Name: Outcome, dtype: float64"
      ]
     },
     "execution_count": 10,
     "metadata": {},
     "output_type": "execute_result"
    }
   ],
   "source": [
    "df.corr()['Outcome']"
   ]
  },
  {
   "cell_type": "code",
   "execution_count": 13,
   "id": "f5fcb73e-32a8-4f64-84d4-3e70de309db3",
   "metadata": {},
   "outputs": [],
   "source": [
    "X = df.iloc[:,0:-1]"
   ]
  },
  {
   "cell_type": "code",
   "execution_count": 15,
   "id": "70e5e965-56f3-4cb2-8b2b-29c14e9ddf14",
   "metadata": {},
   "outputs": [],
   "source": [
    "y = df.iloc[:,-1]"
   ]
  },
  {
   "cell_type": "code",
   "execution_count": 16,
   "id": "56173b87-71dd-4ca2-a41c-4db37d2e4491",
   "metadata": {},
   "outputs": [],
   "source": [
    "from sklearn.preprocessing import StandardScaler\n",
    "scaler = StandardScaler()"
   ]
  },
  {
   "cell_type": "code",
   "execution_count": 17,
   "id": "a191d2a9-ce7b-4aea-8a8c-41bbf429c487",
   "metadata": {},
   "outputs": [],
   "source": [
    "X = scaler.fit_transform(X)"
   ]
  },
  {
   "cell_type": "code",
   "execution_count": 18,
   "id": "ba9ae958-5ed1-458b-9823-ffc1d94a6f77",
   "metadata": {},
   "outputs": [
    {
     "data": {
      "text/plain": [
       "array([[ 0.63994726,  0.84832379,  0.14964075, ...,  0.20401277,\n",
       "         0.46849198,  1.4259954 ],\n",
       "       [-0.84488505, -1.12339636, -0.16054575, ..., -0.68442195,\n",
       "        -0.36506078, -0.19067191],\n",
       "       [ 1.23388019,  1.94372388, -0.26394125, ..., -1.10325546,\n",
       "         0.60439732, -0.10558415],\n",
       "       ...,\n",
       "       [ 0.3429808 ,  0.00330087,  0.14964075, ..., -0.73518964,\n",
       "        -0.68519336, -0.27575966],\n",
       "       [-0.84488505,  0.1597866 , -0.47073225, ..., -0.24020459,\n",
       "        -0.37110101,  1.17073215],\n",
       "       [-0.84488505, -0.8730192 ,  0.04624525, ..., -0.20212881,\n",
       "        -0.47378505, -0.87137393]])"
      ]
     },
     "execution_count": 18,
     "metadata": {},
     "output_type": "execute_result"
    }
   ],
   "source": [
    "X"
   ]
  },
  {
   "cell_type": "code",
   "execution_count": 19,
   "id": "3022fc19-37f8-4f90-b2fb-455868416110",
   "metadata": {},
   "outputs": [],
   "source": [
    "from sklearn.model_selection import train_test_split\n",
    "X_train,X_test,y_train,y_test= train_test_split(X,y,test_size=0.2,random_state=20)"
   ]
  },
  {
   "cell_type": "code",
   "execution_count": 29,
   "id": "578ed3bf-f63b-4c9c-8d4d-0bb0e7e9d861",
   "metadata": {},
   "outputs": [],
   "source": [
    "import tensorflow\n",
    "from tensorflow import keras\n",
    "from keras import Sequential\n",
    "from keras.layers import Dense"
   ]
  },
  {
   "cell_type": "code",
   "execution_count": 30,
   "id": "cbf72241-7dbb-41f0-a95a-967971bf5868",
   "metadata": {},
   "outputs": [],
   "source": [
    "model = Sequential()\n",
    "model.add(Dense(32,activation='relu',input_dim=8))\n",
    "model.add(Dense(1,activation='sigmoid'))"
   ]
  },
  {
   "cell_type": "code",
   "execution_count": 31,
   "id": "060edb43-94ff-4141-81a4-23c05552b59f",
   "metadata": {},
   "outputs": [],
   "source": [
    "model.compile(optimizer='adam',loss='binary_crossentropy',metrics=['accuracy'])"
   ]
  },
  {
   "cell_type": "code",
   "execution_count": 32,
   "id": "07557883-b002-4bf2-a399-74579eeba720",
   "metadata": {},
   "outputs": [
    {
     "name": "stdout",
     "output_type": "stream",
     "text": [
      "Epoch 1/100\n",
      "20/20 [==============================] - 2s 22ms/step - loss: 0.7264 - accuracy: 0.5244 - val_loss: 0.6919 - val_accuracy: 0.5390\n",
      "Epoch 2/100\n",
      "20/20 [==============================] - 0s 9ms/step - loss: 0.6693 - accuracy: 0.6270 - val_loss: 0.6433 - val_accuracy: 0.6623\n",
      "Epoch 3/100\n",
      "20/20 [==============================] - 0s 9ms/step - loss: 0.6264 - accuracy: 0.6710 - val_loss: 0.6085 - val_accuracy: 0.7013\n",
      "Epoch 4/100\n",
      "20/20 [==============================] - 0s 9ms/step - loss: 0.5949 - accuracy: 0.6987 - val_loss: 0.5845 - val_accuracy: 0.7273\n",
      "Epoch 5/100\n",
      "20/20 [==============================] - 0s 8ms/step - loss: 0.5699 - accuracy: 0.7166 - val_loss: 0.5645 - val_accuracy: 0.7208\n",
      "Epoch 6/100\n",
      "20/20 [==============================] - 0s 9ms/step - loss: 0.5489 - accuracy: 0.7345 - val_loss: 0.5468 - val_accuracy: 0.7338\n",
      "Epoch 7/100\n",
      "20/20 [==============================] - 0s 9ms/step - loss: 0.5313 - accuracy: 0.7410 - val_loss: 0.5334 - val_accuracy: 0.7403\n",
      "Epoch 8/100\n",
      "20/20 [==============================] - 0s 9ms/step - loss: 0.5168 - accuracy: 0.7443 - val_loss: 0.5237 - val_accuracy: 0.7273\n",
      "Epoch 9/100\n",
      "20/20 [==============================] - 0s 8ms/step - loss: 0.5039 - accuracy: 0.7557 - val_loss: 0.5152 - val_accuracy: 0.7273\n",
      "Epoch 10/100\n",
      "20/20 [==============================] - 0s 8ms/step - loss: 0.4936 - accuracy: 0.7508 - val_loss: 0.5065 - val_accuracy: 0.7273\n",
      "Epoch 11/100\n",
      "20/20 [==============================] - 0s 14ms/step - loss: 0.4840 - accuracy: 0.7655 - val_loss: 0.5018 - val_accuracy: 0.7273\n",
      "Epoch 12/100\n",
      "20/20 [==============================] - 0s 10ms/step - loss: 0.4778 - accuracy: 0.7720 - val_loss: 0.4985 - val_accuracy: 0.7208\n",
      "Epoch 13/100\n",
      "20/20 [==============================] - 0s 9ms/step - loss: 0.4718 - accuracy: 0.7785 - val_loss: 0.4960 - val_accuracy: 0.7273\n",
      "Epoch 14/100\n",
      "20/20 [==============================] - 0s 12ms/step - loss: 0.4673 - accuracy: 0.7785 - val_loss: 0.4925 - val_accuracy: 0.7273\n",
      "Epoch 15/100\n",
      "20/20 [==============================] - 0s 8ms/step - loss: 0.4625 - accuracy: 0.7769 - val_loss: 0.4917 - val_accuracy: 0.7273\n",
      "Epoch 16/100\n",
      "20/20 [==============================] - 0s 8ms/step - loss: 0.4587 - accuracy: 0.7785 - val_loss: 0.4893 - val_accuracy: 0.7338\n",
      "Epoch 17/100\n",
      "20/20 [==============================] - 0s 9ms/step - loss: 0.4556 - accuracy: 0.7769 - val_loss: 0.4878 - val_accuracy: 0.7403\n",
      "Epoch 18/100\n",
      "20/20 [==============================] - 0s 10ms/step - loss: 0.4528 - accuracy: 0.7801 - val_loss: 0.4873 - val_accuracy: 0.7468\n",
      "Epoch 19/100\n",
      "20/20 [==============================] - 0s 8ms/step - loss: 0.4502 - accuracy: 0.7834 - val_loss: 0.4884 - val_accuracy: 0.7403\n",
      "Epoch 20/100\n",
      "20/20 [==============================] - 0s 9ms/step - loss: 0.4478 - accuracy: 0.7883 - val_loss: 0.4876 - val_accuracy: 0.7468\n",
      "Epoch 21/100\n",
      "20/20 [==============================] - 0s 9ms/step - loss: 0.4456 - accuracy: 0.7883 - val_loss: 0.4908 - val_accuracy: 0.7403\n",
      "Epoch 22/100\n",
      "20/20 [==============================] - 0s 8ms/step - loss: 0.4444 - accuracy: 0.7850 - val_loss: 0.4920 - val_accuracy: 0.7338\n",
      "Epoch 23/100\n",
      "20/20 [==============================] - 0s 9ms/step - loss: 0.4424 - accuracy: 0.7899 - val_loss: 0.4914 - val_accuracy: 0.7403\n",
      "Epoch 24/100\n",
      "20/20 [==============================] - 0s 8ms/step - loss: 0.4415 - accuracy: 0.7899 - val_loss: 0.4920 - val_accuracy: 0.7403\n",
      "Epoch 25/100\n",
      "20/20 [==============================] - 0s 8ms/step - loss: 0.4398 - accuracy: 0.7948 - val_loss: 0.4922 - val_accuracy: 0.7468\n",
      "Epoch 26/100\n",
      "20/20 [==============================] - 0s 8ms/step - loss: 0.4383 - accuracy: 0.7915 - val_loss: 0.4924 - val_accuracy: 0.7468\n",
      "Epoch 27/100\n",
      "20/20 [==============================] - 0s 8ms/step - loss: 0.4373 - accuracy: 0.7980 - val_loss: 0.4920 - val_accuracy: 0.7532\n",
      "Epoch 28/100\n",
      "20/20 [==============================] - 0s 8ms/step - loss: 0.4357 - accuracy: 0.7997 - val_loss: 0.4928 - val_accuracy: 0.7532\n",
      "Epoch 29/100\n",
      "20/20 [==============================] - 0s 11ms/step - loss: 0.4347 - accuracy: 0.7997 - val_loss: 0.4931 - val_accuracy: 0.7532\n",
      "Epoch 30/100\n",
      "20/20 [==============================] - 0s 12ms/step - loss: 0.4338 - accuracy: 0.8046 - val_loss: 0.4949 - val_accuracy: 0.7468\n",
      "Epoch 31/100\n",
      "20/20 [==============================] - 0s 8ms/step - loss: 0.4328 - accuracy: 0.7932 - val_loss: 0.4941 - val_accuracy: 0.7532\n",
      "Epoch 32/100\n",
      "20/20 [==============================] - 0s 12ms/step - loss: 0.4319 - accuracy: 0.7948 - val_loss: 0.4951 - val_accuracy: 0.7468\n",
      "Epoch 33/100\n",
      "20/20 [==============================] - 0s 14ms/step - loss: 0.4315 - accuracy: 0.7964 - val_loss: 0.4943 - val_accuracy: 0.7532\n",
      "Epoch 34/100\n",
      "20/20 [==============================] - 0s 8ms/step - loss: 0.4303 - accuracy: 0.7997 - val_loss: 0.4952 - val_accuracy: 0.7532\n",
      "Epoch 35/100\n",
      "20/20 [==============================] - 0s 13ms/step - loss: 0.4295 - accuracy: 0.7964 - val_loss: 0.4972 - val_accuracy: 0.7597\n",
      "Epoch 36/100\n",
      "20/20 [==============================] - 0s 10ms/step - loss: 0.4284 - accuracy: 0.7980 - val_loss: 0.4978 - val_accuracy: 0.7532\n",
      "Epoch 37/100\n",
      "20/20 [==============================] - 0s 8ms/step - loss: 0.4273 - accuracy: 0.7980 - val_loss: 0.4990 - val_accuracy: 0.7597\n",
      "Epoch 38/100\n",
      "20/20 [==============================] - 0s 11ms/step - loss: 0.4267 - accuracy: 0.7948 - val_loss: 0.5002 - val_accuracy: 0.7532\n",
      "Epoch 39/100\n",
      "20/20 [==============================] - 0s 11ms/step - loss: 0.4260 - accuracy: 0.7948 - val_loss: 0.5001 - val_accuracy: 0.7597\n",
      "Epoch 40/100\n",
      "20/20 [==============================] - 0s 8ms/step - loss: 0.4254 - accuracy: 0.8046 - val_loss: 0.5009 - val_accuracy: 0.7532\n",
      "Epoch 41/100\n",
      "20/20 [==============================] - 0s 8ms/step - loss: 0.4249 - accuracy: 0.8046 - val_loss: 0.5008 - val_accuracy: 0.7468\n",
      "Epoch 42/100\n",
      "20/20 [==============================] - 0s 11ms/step - loss: 0.4244 - accuracy: 0.8062 - val_loss: 0.5003 - val_accuracy: 0.7597\n",
      "Epoch 43/100\n",
      "20/20 [==============================] - 0s 10ms/step - loss: 0.4234 - accuracy: 0.8046 - val_loss: 0.5021 - val_accuracy: 0.7597\n",
      "Epoch 44/100\n",
      "20/20 [==============================] - 0s 10ms/step - loss: 0.4230 - accuracy: 0.8062 - val_loss: 0.5033 - val_accuracy: 0.7532\n",
      "Epoch 45/100\n",
      "20/20 [==============================] - 0s 9ms/step - loss: 0.4226 - accuracy: 0.8029 - val_loss: 0.5037 - val_accuracy: 0.7597\n",
      "Epoch 46/100\n",
      "20/20 [==============================] - 0s 7ms/step - loss: 0.4221 - accuracy: 0.8046 - val_loss: 0.5039 - val_accuracy: 0.7532\n",
      "Epoch 47/100\n",
      "20/20 [==============================] - 0s 8ms/step - loss: 0.4215 - accuracy: 0.8062 - val_loss: 0.5070 - val_accuracy: 0.7468\n",
      "Epoch 48/100\n",
      "20/20 [==============================] - 0s 9ms/step - loss: 0.4207 - accuracy: 0.8046 - val_loss: 0.5069 - val_accuracy: 0.7597\n",
      "Epoch 49/100\n",
      "20/20 [==============================] - 0s 8ms/step - loss: 0.4200 - accuracy: 0.8029 - val_loss: 0.5074 - val_accuracy: 0.7532\n",
      "Epoch 50/100\n",
      "20/20 [==============================] - 0s 8ms/step - loss: 0.4196 - accuracy: 0.8078 - val_loss: 0.5056 - val_accuracy: 0.7597\n",
      "Epoch 51/100\n",
      "20/20 [==============================] - 0s 10ms/step - loss: 0.4193 - accuracy: 0.8062 - val_loss: 0.5064 - val_accuracy: 0.7597\n",
      "Epoch 52/100\n",
      "20/20 [==============================] - 0s 9ms/step - loss: 0.4184 - accuracy: 0.8078 - val_loss: 0.5069 - val_accuracy: 0.7597\n",
      "Epoch 53/100\n",
      "20/20 [==============================] - 0s 10ms/step - loss: 0.4182 - accuracy: 0.8111 - val_loss: 0.5075 - val_accuracy: 0.7597\n",
      "Epoch 54/100\n",
      "20/20 [==============================] - 0s 12ms/step - loss: 0.4179 - accuracy: 0.8046 - val_loss: 0.5080 - val_accuracy: 0.7597\n",
      "Epoch 55/100\n",
      "20/20 [==============================] - 0s 9ms/step - loss: 0.4184 - accuracy: 0.8013 - val_loss: 0.5096 - val_accuracy: 0.7597\n",
      "Epoch 56/100\n",
      "20/20 [==============================] - 0s 11ms/step - loss: 0.4169 - accuracy: 0.8029 - val_loss: 0.5085 - val_accuracy: 0.7597\n",
      "Epoch 57/100\n",
      "20/20 [==============================] - 0s 10ms/step - loss: 0.4165 - accuracy: 0.8013 - val_loss: 0.5091 - val_accuracy: 0.7597\n",
      "Epoch 58/100\n",
      "20/20 [==============================] - 0s 13ms/step - loss: 0.4164 - accuracy: 0.8029 - val_loss: 0.5091 - val_accuracy: 0.7597\n",
      "Epoch 59/100\n",
      "20/20 [==============================] - 0s 16ms/step - loss: 0.4153 - accuracy: 0.8046 - val_loss: 0.5097 - val_accuracy: 0.7597\n",
      "Epoch 60/100\n",
      "20/20 [==============================] - 0s 11ms/step - loss: 0.4150 - accuracy: 0.8062 - val_loss: 0.5089 - val_accuracy: 0.7597\n",
      "Epoch 61/100\n",
      "20/20 [==============================] - 0s 11ms/step - loss: 0.4146 - accuracy: 0.8046 - val_loss: 0.5093 - val_accuracy: 0.7532\n",
      "Epoch 62/100\n",
      "20/20 [==============================] - 0s 10ms/step - loss: 0.4142 - accuracy: 0.8078 - val_loss: 0.5110 - val_accuracy: 0.7532\n",
      "Epoch 63/100\n",
      "20/20 [==============================] - 0s 9ms/step - loss: 0.4142 - accuracy: 0.8062 - val_loss: 0.5106 - val_accuracy: 0.7597\n",
      "Epoch 64/100\n",
      "20/20 [==============================] - 0s 10ms/step - loss: 0.4134 - accuracy: 0.8062 - val_loss: 0.5102 - val_accuracy: 0.7532\n",
      "Epoch 65/100\n",
      "20/20 [==============================] - 0s 10ms/step - loss: 0.4132 - accuracy: 0.8046 - val_loss: 0.5119 - val_accuracy: 0.7532\n",
      "Epoch 66/100\n",
      "20/20 [==============================] - 0s 12ms/step - loss: 0.4129 - accuracy: 0.8029 - val_loss: 0.5116 - val_accuracy: 0.7597\n",
      "Epoch 67/100\n",
      "20/20 [==============================] - 0s 9ms/step - loss: 0.4125 - accuracy: 0.7997 - val_loss: 0.5109 - val_accuracy: 0.7403\n",
      "Epoch 68/100\n",
      "20/20 [==============================] - 0s 10ms/step - loss: 0.4124 - accuracy: 0.8029 - val_loss: 0.5109 - val_accuracy: 0.7403\n",
      "Epoch 69/100\n",
      "20/20 [==============================] - 0s 10ms/step - loss: 0.4123 - accuracy: 0.8029 - val_loss: 0.5125 - val_accuracy: 0.7597\n",
      "Epoch 70/100\n",
      "20/20 [==============================] - 0s 12ms/step - loss: 0.4115 - accuracy: 0.8062 - val_loss: 0.5131 - val_accuracy: 0.7597\n",
      "Epoch 71/100\n",
      "20/20 [==============================] - 0s 13ms/step - loss: 0.4112 - accuracy: 0.8046 - val_loss: 0.5133 - val_accuracy: 0.7597\n",
      "Epoch 72/100\n",
      "20/20 [==============================] - 0s 10ms/step - loss: 0.4107 - accuracy: 0.8062 - val_loss: 0.5144 - val_accuracy: 0.7597\n",
      "Epoch 73/100\n",
      "20/20 [==============================] - 0s 15ms/step - loss: 0.4101 - accuracy: 0.8062 - val_loss: 0.5142 - val_accuracy: 0.7597\n",
      "Epoch 74/100\n",
      "20/20 [==============================] - 0s 15ms/step - loss: 0.4100 - accuracy: 0.8078 - val_loss: 0.5136 - val_accuracy: 0.7597\n",
      "Epoch 75/100\n",
      "20/20 [==============================] - 0s 13ms/step - loss: 0.4095 - accuracy: 0.8029 - val_loss: 0.5123 - val_accuracy: 0.7597\n",
      "Epoch 76/100\n",
      "20/20 [==============================] - 0s 10ms/step - loss: 0.4094 - accuracy: 0.8013 - val_loss: 0.5137 - val_accuracy: 0.7597\n",
      "Epoch 77/100\n",
      "20/20 [==============================] - 0s 11ms/step - loss: 0.4088 - accuracy: 0.7997 - val_loss: 0.5128 - val_accuracy: 0.7532\n",
      "Epoch 78/100\n",
      "20/20 [==============================] - 0s 13ms/step - loss: 0.4083 - accuracy: 0.7997 - val_loss: 0.5131 - val_accuracy: 0.7532\n",
      "Epoch 79/100\n",
      "20/20 [==============================] - 0s 10ms/step - loss: 0.4084 - accuracy: 0.8029 - val_loss: 0.5130 - val_accuracy: 0.7597\n",
      "Epoch 80/100\n",
      "20/20 [==============================] - 0s 10ms/step - loss: 0.4077 - accuracy: 0.8094 - val_loss: 0.5143 - val_accuracy: 0.7597\n",
      "Epoch 81/100\n",
      "20/20 [==============================] - 0s 9ms/step - loss: 0.4073 - accuracy: 0.8062 - val_loss: 0.5142 - val_accuracy: 0.7532\n",
      "Epoch 82/100\n",
      "20/20 [==============================] - 0s 9ms/step - loss: 0.4071 - accuracy: 0.8046 - val_loss: 0.5137 - val_accuracy: 0.7468\n",
      "Epoch 83/100\n",
      "20/20 [==============================] - 0s 8ms/step - loss: 0.4071 - accuracy: 0.8013 - val_loss: 0.5144 - val_accuracy: 0.7468\n",
      "Epoch 84/100\n",
      "20/20 [==============================] - 0s 9ms/step - loss: 0.4069 - accuracy: 0.8013 - val_loss: 0.5154 - val_accuracy: 0.7532\n",
      "Epoch 85/100\n",
      "20/20 [==============================] - 0s 9ms/step - loss: 0.4064 - accuracy: 0.8029 - val_loss: 0.5153 - val_accuracy: 0.7532\n",
      "Epoch 86/100\n",
      "20/20 [==============================] - 0s 10ms/step - loss: 0.4064 - accuracy: 0.8013 - val_loss: 0.5170 - val_accuracy: 0.7532\n",
      "Epoch 87/100\n",
      "20/20 [==============================] - 0s 10ms/step - loss: 0.4057 - accuracy: 0.8013 - val_loss: 0.5160 - val_accuracy: 0.7532\n",
      "Epoch 88/100\n",
      "20/20 [==============================] - 0s 10ms/step - loss: 0.4056 - accuracy: 0.7997 - val_loss: 0.5200 - val_accuracy: 0.7532\n",
      "Epoch 89/100\n",
      "20/20 [==============================] - 0s 17ms/step - loss: 0.4065 - accuracy: 0.8062 - val_loss: 0.5199 - val_accuracy: 0.7532\n",
      "Epoch 90/100\n",
      "20/20 [==============================] - 0s 13ms/step - loss: 0.4056 - accuracy: 0.8078 - val_loss: 0.5176 - val_accuracy: 0.7468\n",
      "Epoch 91/100\n",
      "20/20 [==============================] - 0s 11ms/step - loss: 0.4043 - accuracy: 0.8062 - val_loss: 0.5178 - val_accuracy: 0.7468\n",
      "Epoch 92/100\n",
      "20/20 [==============================] - 0s 10ms/step - loss: 0.4042 - accuracy: 0.8029 - val_loss: 0.5196 - val_accuracy: 0.7532\n",
      "Epoch 93/100\n",
      "20/20 [==============================] - 0s 10ms/step - loss: 0.4039 - accuracy: 0.7997 - val_loss: 0.5200 - val_accuracy: 0.7468\n",
      "Epoch 94/100\n",
      "20/20 [==============================] - 0s 9ms/step - loss: 0.4035 - accuracy: 0.8062 - val_loss: 0.5194 - val_accuracy: 0.7403\n",
      "Epoch 95/100\n",
      "20/20 [==============================] - 0s 9ms/step - loss: 0.4034 - accuracy: 0.8062 - val_loss: 0.5202 - val_accuracy: 0.7468\n",
      "Epoch 96/100\n",
      "20/20 [==============================] - 0s 9ms/step - loss: 0.4032 - accuracy: 0.8094 - val_loss: 0.5219 - val_accuracy: 0.7468\n",
      "Epoch 97/100\n",
      "20/20 [==============================] - 0s 11ms/step - loss: 0.4026 - accuracy: 0.8094 - val_loss: 0.5204 - val_accuracy: 0.7468\n",
      "Epoch 98/100\n",
      "20/20 [==============================] - 0s 9ms/step - loss: 0.4026 - accuracy: 0.8094 - val_loss: 0.5197 - val_accuracy: 0.7532\n",
      "Epoch 99/100\n",
      "20/20 [==============================] - 0s 9ms/step - loss: 0.4024 - accuracy: 0.8127 - val_loss: 0.5193 - val_accuracy: 0.7597\n",
      "Epoch 100/100\n",
      "20/20 [==============================] - 0s 9ms/step - loss: 0.4022 - accuracy: 0.8127 - val_loss: 0.5173 - val_accuracy: 0.7532\n"
     ]
    },
    {
     "data": {
      "text/plain": [
       "<keras.src.callbacks.History at 0x155912c9c10>"
      ]
     },
     "execution_count": 32,
     "metadata": {},
     "output_type": "execute_result"
    }
   ],
   "source": [
    "model.fit(X_train,y_train,validation_data =(X_test,y_test),batch_size=32,epochs=100)"
   ]
  },
  {
   "cell_type": "markdown",
   "id": "39430a78-60eb-4210-a141-66f133ff9c84",
   "metadata": {},
   "source": [
    "# Hyper parameter tuner"
   ]
  },
  {
   "cell_type": "code",
   "execution_count": 34,
   "id": "0084fc0f-8ab1-4cb4-8f7a-2f471a5f1de2",
   "metadata": {},
   "outputs": [
    {
     "ename": "ImportError",
     "evalue": "cannot import name 'kerastuner' from 'tensorflow' (C:\\Users\\ADMIN\\AppData\\Local\\Programs\\Python\\Python311\\Lib\\site-packages\\tensorflow\\__init__.py)",
     "output_type": "error",
     "traceback": [
      "\u001b[1;31m---------------------------------------------------------------------------\u001b[0m",
      "\u001b[1;31mImportError\u001b[0m                               Traceback (most recent call last)",
      "Cell \u001b[1;32mIn[34], line 1\u001b[0m\n\u001b[1;32m----> 1\u001b[0m \u001b[38;5;28;01mfrom\u001b[39;00m\u001b[38;5;250m \u001b[39m\u001b[38;5;21;01mtensorflow\u001b[39;00m\u001b[38;5;250m \u001b[39m\u001b[38;5;28;01mimport\u001b[39;00m kerastuner \u001b[38;5;28;01mas\u001b[39;00m kt\n",
      "\u001b[1;31mImportError\u001b[0m: cannot import name 'kerastuner' from 'tensorflow' (C:\\Users\\ADMIN\\AppData\\Local\\Programs\\Python\\Python311\\Lib\\site-packages\\tensorflow\\__init__.py)"
     ]
    }
   ],
   "source": [
    "import kerastuner as kt"
   ]
  },
  {
   "cell_type": "code",
   "execution_count": null,
   "id": "03b790b3-e518-49a7-ae6d-0259a1b1cb7b",
   "metadata": {},
   "outputs": [],
   "source": []
  }
 ],
 "metadata": {
  "kernelspec": {
   "display_name": "Python 3 (ipykernel)",
   "language": "python",
   "name": "python3"
  },
  "language_info": {
   "codemirror_mode": {
    "name": "ipython",
    "version": 3
   },
   "file_extension": ".py",
   "mimetype": "text/x-python",
   "name": "python",
   "nbconvert_exporter": "python",
   "pygments_lexer": "ipython3",
   "version": "3.11.0"
  }
 },
 "nbformat": 4,
 "nbformat_minor": 5
}
