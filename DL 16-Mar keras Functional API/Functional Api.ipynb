{
 "cells": [
  {
   "cell_type": "code",
   "execution_count": 3,
   "id": "22feae58-3e93-42c3-b1bb-9ef0cb39133c",
   "metadata": {},
   "outputs": [],
   "source": [
    "from keras.models import Model\n",
    "from keras.layers import *"
   ]
  },
  {
   "cell_type": "code",
   "execution_count": 7,
   "id": "1c5f83fe-abb0-4901-b316-74e24ac7eb89",
   "metadata": {},
   "outputs": [],
   "source": [
    "model = Model(inputs=x,outputs=[output1,output2])"
   ]
  },
  {
   "cell_type": "code",
   "execution_count": 5,
   "id": "a7c88b98-d004-47db-acc4-cd74607941f0",
   "metadata": {},
   "outputs": [
    {
     "name": "stdout",
     "output_type": "stream",
     "text": [
      "WARNING:tensorflow:From C:\\Users\\ADMIN\\AppData\\Local\\Programs\\Python\\Python311\\Lib\\site-packages\\keras\\src\\backend.py:1398: The name tf.executing_eagerly_outside_functions is deprecated. Please use tf.compat.v1.executing_eagerly_outside_functions instead.\n",
      "\n"
     ]
    }
   ],
   "source": [
    "x = Input(shape=(3,))"
   ]
  },
  {
   "cell_type": "code",
   "execution_count": 6,
   "id": "f88851db-c903-437e-9241-86e103995ed8",
   "metadata": {},
   "outputs": [],
   "source": [
    "hidden1 = Dense(units=128,activation='relu')(x)\n",
    "hidden2 = Dense(units=64,activation='relu')(hidden1)\n",
    "\n",
    "output1 = Dense(units=1,activation='linear')(hidden2)\n",
    "output2 = Dense(units=1,activation='sigmoid')(hidden2)"
   ]
  },
  {
   "cell_type": "code",
   "execution_count": 9,
   "id": "598bfd81-95c6-4919-93eb-08f68c4955bd",
   "metadata": {},
   "outputs": [],
   "source": [
    "from keras.utils import plot_model"
   ]
  },
  {
   "cell_type": "code",
   "execution_count": 13,
   "id": "4881532f-633f-449e-a45c-391fd7a6c4f9",
   "metadata": {},
   "outputs": [
    {
     "name": "stderr",
     "output_type": "stream",
     "text": [
      "\n",
      "[notice] A new release of pip is available: 25.0 -> 25.0.1\n",
      "[notice] To update, run: python.exe -m pip install --upgrade pip\n"
     ]
    },
    {
     "name": "stdout",
     "output_type": "stream",
     "text": [
      "Requirement already satisfied: pydot in c:\\users\\admin\\appdata\\local\\programs\\python\\python311\\lib\\site-packages (3.0.4)\n",
      "Requirement already satisfied: pyparsing>=3.0.9 in c:\\users\\admin\\appdata\\local\\programs\\python\\python311\\lib\\site-packages (from pydot) (3.2.1)\n"
     ]
    }
   ],
   "source": [
    "!pip install pydot"
   ]
  },
  {
   "cell_type": "code",
   "execution_count": 14,
   "id": "3e644bdf-b82b-4c88-af06-9fc6acba36b1",
   "metadata": {},
   "outputs": [
    {
     "name": "stdout",
     "output_type": "stream",
     "text": [
      "You must install pydot (`pip install pydot`) and install graphviz (see instructions at https://graphviz.gitlab.io/download/) for plot_model to work.\n"
     ]
    }
   ],
   "source": [
    "plot_model(model)"
   ]
  },
  {
   "cell_type": "code",
   "execution_count": null,
   "id": "f18e9573-98b5-499d-8eb4-315c713ffd8a",
   "metadata": {},
   "outputs": [],
   "source": []
  }
 ],
 "metadata": {
  "kernelspec": {
   "display_name": "Python 3 (ipykernel)",
   "language": "python",
   "name": "python3"
  },
  "language_info": {
   "codemirror_mode": {
    "name": "ipython",
    "version": 3
   },
   "file_extension": ".py",
   "mimetype": "text/x-python",
   "name": "python",
   "nbconvert_exporter": "python",
   "pygments_lexer": "ipython3",
   "version": "3.11.0"
  }
 },
 "nbformat": 4,
 "nbformat_minor": 5
}
